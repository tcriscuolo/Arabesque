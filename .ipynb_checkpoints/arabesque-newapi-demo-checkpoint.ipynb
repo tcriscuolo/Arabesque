{
 "cells": [
  {
   "cell_type": "markdown",
   "metadata": {},
   "source": [
    "## Arabesque API\n",
    "\n",
    "[http://arabesque.io](http://arabesque.io)\n",
    "\n",
    "*Current Version:* 1.0.2-BETA\n",
    "\n",
    "Arabesque is a distributed graph mining system that enables quick and easy\n",
    "development of graph mining algorithms, while providing a scalable and efficient\n",
    "execution engine running on top of Hadoop.\n",
    "\n",
    "Benefits of Arabesque:\n",
    "* Simple and intuitive API, specially tailored for Graph Mining algorithms.\n",
    "* Transparently handling of all complexities associated with these algorithms.\n",
    "* Scalable to hundreds of workers.\n",
    "* Efficient implementation: negligible overhead compared to equivalent centralized solutions.\n",
    "\n",
    "Arabesque is open-source with the Apache 2.0 license."
   ]
  },
  {
   "cell_type": "code",
   "execution_count": 1,
   "metadata": {
    "collapsed": false
   },
   "outputs": [
    {
     "ename": "SyntaxError",
     "evalue": "invalid syntax (<ipython-input-1-0f4a5ba7fb50>, line 3)",
     "output_type": "error",
     "traceback": [
      "\u001b[1;36m  File \u001b[1;32m\"<ipython-input-1-0f4a5ba7fb50>\"\u001b[1;36m, line \u001b[1;32m3\u001b[0m\n\u001b[1;33m    println (s\"spark application ID: ${sc.applicationId}\")\u001b[0m\n\u001b[1;37m                                                        ^\u001b[0m\n\u001b[1;31mSyntaxError\u001b[0m\u001b[1;31m:\u001b[0m invalid syntax\n"
     ]
    }
   ],
   "source": [
    "import io.arabesque.ArabesqueContext\n",
    "\n",
    "println (s\"spark application ID: ${sc.applicationId}\")\n",
    "\n",
    "// arabesque context is built on top of SparkContext\n",
    "val arab = new ArabesqueContext (sc)\n",
    "println (s\"arabesque context = ${arab}\")\n",
    "\n",
    "// get local path for the sample graph\n",
    "val localPath = s\"${System.getenv (\"ARABESQUE_HOME\")}/data/citeseer-single-label.graph\"\n",
    "println (s\"localPath = ${localPath}\")\n",
    "\n",
    "// several arabesque graphs are built on top of ArabesqueContext\n",
    "val arabGraph = arab.textFile (localPath)\n",
    "println (s\"arabesque graph = ${arabGraph}\")\n",
    "\n",
    "// generating motifs of size 3\n",
    "val motifs = arabGraph.motifs (3).set (\"agg_ic\", true).set (\"comm_ss\", \"embedding\")\n",
    "println (s\"arabesque result = ${motifs}\")\n",
    "\n",
    "println (motifs.config.getOutputPath)\n",
    "\n",
    "// embeddings RDD\n",
    "val embeddings = motifs.embeddings\n",
    "println (motifs.config.getOutputPath)\n",
    "println (s\"two sample embeddings:\\n${embeddings.take(2).mkString(\"\\n\")}\")\n",
    "arab.stop"
   ]
  }
 ],
 "metadata": {
  "celltoolbar": "Slideshow",
  "kernelspec": {
   "display_name": "Python 3",
   "language": "python",
   "name": "python3"
  },
  "language_info": {
   "codemirror_mode": {
    "name": "ipython",
    "version": 3
   },
   "file_extension": ".py",
   "mimetype": "text/x-python",
   "name": "python",
   "nbconvert_exporter": "python",
   "pygments_lexer": "ipython3",
   "version": "3.5.1"
  }
 },
 "nbformat": 4,
 "nbformat_minor": 0
}
