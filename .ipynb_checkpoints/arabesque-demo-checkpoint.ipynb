{
 "cells": [
  {
   "cell_type": "markdown",
   "metadata": {},
   "source": [
    "## Arabesque notebook demo\n",
    "\n",
    "[http://arabesque.io](http://arabesque.io)\n",
    "\n",
    "*Current Version:* 1.0.2-BETA\n",
    "\n",
    "Arabesque is a distributed graph mining system that enables quick and easy\n",
    "development of graph mining algorithms, while providing a scalable and efficient\n",
    "execution engine running on top of Hadoop.\n",
    "\n",
    "Benefits of Arabesque:\n",
    "* Simple and intuitive API, specially tailored for Graph Mining algorithms.\n",
    "* Transparently handling of all complexities associated with these algorithms.\n",
    "* Scalable to hundreds of workers.\n",
    "* Efficient implementation: negligible overhead compared to equivalent centralized solutions.\n",
    "\n",
    "Arabesque is open-source with the Apache 2.0 license."
   ]
  },
  {
   "cell_type": "markdown",
   "metadata": {},
   "source": [
    "### Execution engine\n",
    "\n",
    "This demo runs over the Spark's execution engine, i.e., one of the alternatives for playing around with Arabesque.\n",
    "For more details about the supported execution engines, please refer to [our project](https://github.com/viniciusvdias/Arabesque) on GitHub."
   ]
  },
  {
   "cell_type": "markdown",
   "metadata": {},
   "source": [
    "### Your algorithm is a computation\n",
    "\n",
    "Every Arabesque application is defined in terms of its configurations. When setting up an application the user must create a computation class that will represent an algorithm in graphs. The interface for defining a computation is the following:\n",
    "```java\n",
    "public interface Computation<E extends Embedding> {\n",
    "    void init();    \n",
    "    void initAggregations();\n",
    "    // ... //    \n",
    "    void process(E embedding);    \n",
    "    // ... //    \n",
    "    boolean shouldExpand(E newEmbedding);    \n",
    "}\n",
    "```\n",
    "\n",
    "We highlight above only the main methods that must be implemented in order to create a computation,\n",
    "like [MotifsComputation](https://github.com/viniciusvdias/Arabesque/blob/master/src/main/java/io/arabesque/examples/motif/MotifComputation.java)."
   ]
  },
  {
   "cell_type": "markdown",
   "metadata": {},
   "source": [
    "### Configuring a computation\n",
    "\n",
    "In order to run a computation, you must now instantiate it though a [Configuration](https://github.com/viniciusvdias/Arabesque/blob/master/src/main/java/io/arabesque/conf/Configuration.java) object or one of its subclasses. In case of running interatively over Spark's execution engine (like we are doing) the configuration class must be [SparkConfiguration](https://github.com/viniciusvdias/Arabesque/blob/master/src/main/scala/io/arabesque/conf/SparkConfiguration.scala).\n",
    "\n",
    "The following snippet shows how to configure a [MotifsComputation](https://github.com/viniciusvdias/Arabesque/blob/master/src/main/java/io/arabesque/examples/motif/MotifComputation.java). You can also explore another examples [here](https://github.com/viniciusvdias/Arabesque/tree/master/src/main/java/io/arabesque/examples)."
   ]
  },
  {
   "cell_type": "code",
   "execution_count": 4,
   "metadata": {
    "collapsed": false
   },
   "outputs": [
    {
     "data": {
      "text/plain": [
       "[sparkConf, mainGraphClass=null, embeddingClass=null, computationClass=null]"
      ]
     },
     "execution_count": 4,
     "metadata": {},
     "output_type": "execute_result"
    }
   ],
   "source": [
    "import io.arabesque.conf.SparkConfiguration\n",
    "\n",
    "val config = new SparkConfiguration\n",
    "\n",
    "// setting which class implements the computation\n",
    "config.set (\"computation\", \"io.arabesque.examples.motif.MotifComputation\")\n",
    "\n",
    "// graph input path: it can be local or hdfs\n",
    "val localPath = s\"${System.getenv (\"ARABESQUE_HOME\")}/data/mico-qanat-sortedByDegree-same-label.txt\"\n",
    "config.set (\"input_graph_path\", localPath)\n",
    "\n",
    "// make clear to the system whether it must fetch the graph from local file system (file://) or hdfs (hdfs://)\n",
    "config.set (\"input_graph_local\", true)\n",
    "\n",
    "// this is specific to motif computation and represents the deepest level of embedding exploration\n",
    "config.set (\"arabesque.motif.maxsize\", 3)"
   ]
  },
  {
   "cell_type": "markdown",
   "metadata": {},
   "source": [
    "### Computation created and configured ... Let's execute it\n",
    "\n",
    "We can now create a Spark execution engine passing SparkContext and configuration (see above) to it, call ```compute()``` and read the aggregation results with ```getAggregatedValue```:"
   ]
  },
  {
   "cell_type": "code",
   "execution_count": 5,
   "metadata": {
    "collapsed": false
   },
   "outputs": [
    {
     "data": {
      "text/plain": [
       "AggregationStorage{name='motifs', keyValueMap={[0,1-1,1], [1,1-2,1], [0,1-2,1]=12534960, [1,1-2,1], [0,1-2,1]=53546459}}"
      ]
     },
     "execution_count": 5,
     "metadata": {},
     "output_type": "execute_result"
    }
   ],
   "source": [
    "import io.arabesque.computation.SparkMasterExecutionEngine\n",
    "import io.arabesque.aggregation.AggregationStorage\n",
    "\n",
    "// pass to the execution engine the SparkContext and the configuration made in the previous step\n",
    "val engine = new SparkMasterExecutionEngine (sc, config)\n",
    "\n",
    "// call compute() to init computation\n",
    "engine.compute()\n",
    "\n",
    "// it's done, you can now observe the aggregated results by requesting an AggregationStorage by name.\n",
    "// See MotifsComputation to learn how to do it\n",
    "engine.getAggregatedValue [AggregationStorage[_,_]] (\"motifs\")"
   ]
  },
  {
   "cell_type": "code",
   "execution_count": 20,
   "metadata": {
    "collapsed": false
   },
   "outputs": [
    {
     "data": {
      "text/plain": [
       "null"
      ]
     },
     "execution_count": 20,
     "metadata": {},
     "output_type": "execute_result"
    }
   ],
   "source": [
    "import io.arabesque.ArabesqueContext\n",
    "\n",
    "val arab = new ArabesqueContext (sc)\n",
    "val arabGraph = arab.textFile (\"file:///home/viniciusvdias/environments/Arabesque/data/citeseer-single-label.graph\")\n",
    "val motifs = arabGraph.motifs (3)\n",
    "motifs.config.getOutputPath"
   ]
  }
 ],
 "metadata": {
  "celltoolbar": "Slideshow",
  "kernelspec": {
   "display_name": "arabesque_1.0.2 - Scala",
   "language": "scala",
   "name": "arabesque_1.0.2_scala"
  },
  "language_info": {
   "name": "scala"
  }
 },
 "nbformat": 4,
 "nbformat_minor": 0
}
