{
 "cells": [
  {
   "cell_type": "markdown",
   "metadata": {},
   "source": [
    "## Arabesque API\n",
    "\n",
    "[http://arabesque.io](http://arabesque.io)\n",
    "\n",
    "*Current Version:* 1.0.2-BETA\n",
    "\n",
    "Arabesque is a distributed graph mining system that enables quick and easy\n",
    "development of graph mining algorithms, while providing a scalable and efficient\n",
    "execution engine running on top of Hadoop.\n",
    "\n",
    "Benefits of Arabesque:\n",
    "* Simple and intuitive API, specially tailored for Graph Mining algorithms.\n",
    "* Transparently handling of all complexities associated with these algorithms.\n",
    "* Scalable to hundreds of workers.\n",
    "* Efficient implementation: negligible overhead compared to equivalent centralized solutions.\n",
    "\n",
    "Arabesque is open-source with the Apache 2.0 license."
   ]
  },
  {
   "cell_type": "code",
   "execution_count": 1,
   "metadata": {
    "collapsed": false
   },
   "outputs": [
    {
     "data": {
      "text/plain": [
       "Name: Compile Error\n",
       "Message: <console>:18: error: object arabesque is not a member of package io\n",
       "         import io.arabesque.ArabesqueContext\n",
       "                   ^\n",
       "StackTrace: "
      ]
     },
     "execution_count": 1,
     "metadata": {},
     "output_type": "execute_result"
    }
   ],
   "source": [
    "import io.arabesque.ArabesqueContext\n",
    "\n",
    "println (s\"spark application ID: ${sc.applicationId}\")\n",
    "\n",
    "// arabesque context is built on top of SparkContext\n",
    "val arab = new ArabesqueContext (sc)\n",
    "println (s\"arabesque context = ${arab}\")\n",
    "\n",
    "// get local path for the sample graph\n",
    "val localPath = s\"${System.getenv (\"ARABESQUE_HOME\")}/data/citeseer-single-label.graph\"\n",
    "println (s\"localPath = ${localPath}\")\n",
    "\n",
    "// several arabesque graphs are built on top of ArabesqueContext\n",
    "val arabGraph = arab.textFile (localPath)\n",
    "println (s\"arabesque graph = ${arabGraph}\")\n",
    "\n",
    "// generating motifs of size 3\n",
    "val motifs = arabGraph.motifs(3).set (\"agg_ic\", true).set (\"comm_ss\", \"embedding\")\n",
    "println (s\"arabesque result = ${motifs}\")\n",
    "\n",
    "println (motifs.config.getOutputPath)\n",
    "\n",
    "// embeddings RDD\n",
    "val embeddings = motifs.embeddings\n",
    "println (motifs.config.getOutputPath)\n",
    "println (s\"two sample embeddings:\\n${embeddings.take(2).mkString(\"\\n\")}\")\n",
    "arab.stop"
   ]
  },
  {
   "cell_type": "code",
   "execution_count": 15,
   "metadata": {
    "collapsed": false
   },
   "outputs": [],
   "source": [
    "import py4j."
   ]
  },
  {
   "cell_type": "code",
   "execution_count": null,
   "metadata": {
    "collapsed": true
   },
   "outputs": [],
   "source": []
  },
  {
   "cell_type": "code",
   "execution_count": null,
   "metadata": {
    "collapsed": true
   },
   "outputs": [],
   "source": []
  }
 ],
 "metadata": {
  "celltoolbar": "Slideshow",
  "kernelspec": {
   "display_name": "arabesque_1.0.2 - Scala",
   "language": "scala",
   "name": "arabesque_1.0.2_scala"
  },
  "language_info": {
   "name": "scala"
  }
 },
 "nbformat": 4,
 "nbformat_minor": 0
}
